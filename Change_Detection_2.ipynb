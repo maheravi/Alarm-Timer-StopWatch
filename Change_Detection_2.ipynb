{
  "nbformat": 4,
  "nbformat_minor": 0,
  "metadata": {
    "colab": {
      "provenance": [],
      "gpuType": "T4",
      "authorship_tag": "ABX9TyMcC9kcyXUGExuHK7VliDih",
      "include_colab_link": true
    },
    "kernelspec": {
      "name": "python3",
      "display_name": "Python 3"
    },
    "language_info": {
      "name": "python"
    },
    "accelerator": "GPU"
  },
  "cells": [
    {
      "cell_type": "markdown",
      "metadata": {
        "id": "view-in-github",
        "colab_type": "text"
      },
      "source": [
        "<a href=\"https://colab.research.google.com/github/maheravi/Alarm-Timer-StopWatch/blob/main/Change_Detection_2.ipynb\" target=\"_parent\"><img src=\"https://colab.research.google.com/assets/colab-badge.svg\" alt=\"Open In Colab\"/></a>"
      ]
    },
    {
      "cell_type": "code",
      "source": [
        "import gdown\n",
        "import os\n",
        "from google.colab import drive, files\n",
        "drive.mount('/content/drive')"
      ],
      "metadata": {
        "colab": {
          "base_uri": "https://localhost:8080/"
        },
        "id": "gu3ZzpqvuH7U",
        "outputId": "23eaaf22-1acd-4167-d04d-b23a43a861ff"
      },
      "execution_count": 2,
      "outputs": [
        {
          "output_type": "stream",
          "name": "stdout",
          "text": [
            "Mounted at /content/drive\n"
          ]
        }
      ]
    },
    {
      "cell_type": "code",
      "source": [
        "!cp -av /content/drive/MyDrive/data /content"
      ],
      "metadata": {
        "colab": {
          "base_uri": "https://localhost:8080/"
        },
        "id": "0MAWInGBrujg",
        "outputId": "dead15d4-b905-45da-af75-60294f3a6925"
      },
      "execution_count": 3,
      "outputs": [
        {
          "output_type": "stream",
          "name": "stdout",
          "text": [
            "'/content/drive/MyDrive/data' -> '/content/data'\n",
            "'/content/drive/MyDrive/data/before' -> '/content/data/before'\n",
            "'/content/drive/MyDrive/data/before/4001.png' -> '/content/data/before/4001.png'\n",
            "'/content/drive/MyDrive/data/before/3001.png' -> '/content/data/before/3001.png'\n",
            "'/content/drive/MyDrive/data/before/5001.png' -> '/content/data/before/5001.png'\n",
            "'/content/drive/MyDrive/data/before/1001.png' -> '/content/data/before/1001.png'\n",
            "'/content/drive/MyDrive/data/before/2001.png' -> '/content/data/before/2001.png'\n",
            "'/content/drive/MyDrive/data/after' -> '/content/data/after'\n",
            "'/content/drive/MyDrive/data/after/2001.png' -> '/content/data/after/2001.png'\n",
            "'/content/drive/MyDrive/data/after/1001.png' -> '/content/data/after/1001.png'\n",
            "'/content/drive/MyDrive/data/after/4001.png' -> '/content/data/after/4001.png'\n",
            "'/content/drive/MyDrive/data/after/3001.png' -> '/content/data/after/3001.png'\n",
            "'/content/drive/MyDrive/data/after/5001.png' -> '/content/data/after/5001.png'\n"
          ]
        }
      ]
    },
    {
      "cell_type": "markdown",
      "source": [
        "#1st Algorithm\n",
        "\n",
        "---\n",
        "\n"
      ],
      "metadata": {
        "id": "riBklHs12XM-"
      }
    },
    {
      "cell_type": "code",
      "execution_count": null,
      "metadata": {
        "colab": {
          "base_uri": "https://localhost:8080/"
        },
        "id": "ex54ZTcsCxoi",
        "outputId": "b4e3ec5d-d553-41c7-edae-190a5e35789b"
      },
      "outputs": [
        {
          "output_type": "stream",
          "name": "stdout",
          "text": [
            "Cloning into 'FCCDN_pytorch'...\n",
            "remote: Enumerating objects: 85, done.\u001b[K\n",
            "remote: Counting objects: 100% (85/85), done.\u001b[K\n",
            "remote: Compressing objects: 100% (60/60), done.\u001b[K\n",
            "remote: Total 85 (delta 28), reused 75 (delta 21), pack-reused 0\u001b[K\n",
            "Unpacking objects: 100% (85/85), 24.03 MiB | 7.25 MiB/s, done.\n"
          ]
        }
      ],
      "source": [
        "!git clone https://github.com/chenpan0615/FCCDN_pytorch.git"
      ]
    },
    {
      "cell_type": "code",
      "source": [
        "%cd /content/FCCDN_pytorch"
      ],
      "metadata": {
        "colab": {
          "base_uri": "https://localhost:8080/"
        },
        "id": "THhcObQHC3_P",
        "outputId": "63e55dbf-5d77-4229-90fd-8b8147bfed7b"
      },
      "execution_count": null,
      "outputs": [
        {
          "output_type": "stream",
          "name": "stdout",
          "text": [
            "/content/FCCDN_pytorch\n"
          ]
        }
      ]
    },
    {
      "cell_type": "code",
      "source": [
        "!mkdir test_in_path\n",
        "!mkdir test_out_path\n",
        "!mkdir test_in_path/A\n",
        "!mkdir test_in_path/B"
      ],
      "metadata": {
        "id": "l89zp36FDoyD"
      },
      "execution_count": null,
      "outputs": []
    },
    {
      "cell_type": "code",
      "source": [
        "!python inference.py"
      ],
      "metadata": {
        "colab": {
          "base_uri": "https://localhost:8080/"
        },
        "id": "WgKwDmBtDLHv",
        "outputId": "9255626b-997e-4162-a200-a3348f081e74"
      },
      "execution_count": null,
      "outputs": [
        {
          "output_type": "stream",
          "name": "stdout",
          "text": [
            "**********warning**********\n",
            "We have updated the model by replacing the upsample mode from 'bilinear' to 'nearest'. \n",
            "Please update to the latest code.\n",
            "Test: 100% 1/1 [00:01<00:00,  1.18s/it]\n"
          ]
        }
      ]
    },
    {
      "cell_type": "markdown",
      "source": [
        "# 2nd Algorithm\n",
        "\n",
        "---\n",
        "\n"
      ],
      "metadata": {
        "id": "XbgFOCfJQbTH"
      }
    },
    {
      "cell_type": "code",
      "source": [
        "%cd .."
      ],
      "metadata": {
        "colab": {
          "base_uri": "https://localhost:8080/"
        },
        "id": "bnc3Qp4tQZlj",
        "outputId": "787c044e-3b90-46a2-9421-00db225cbf03"
      },
      "execution_count": null,
      "outputs": [
        {
          "output_type": "stream",
          "name": "stdout",
          "text": [
            "/content\n"
          ]
        }
      ]
    },
    {
      "cell_type": "code",
      "source": [
        "!git clone https://github.com/ChaymaBouzaidii/Change-detection-in-multitemporal-satellite-images.git"
      ],
      "metadata": {
        "colab": {
          "base_uri": "https://localhost:8080/"
        },
        "id": "NVw2qeQhDOQ3",
        "outputId": "c07bf8f5-8742-43f4-a761-4a14c345a7d1"
      },
      "execution_count": null,
      "outputs": [
        {
          "output_type": "stream",
          "name": "stdout",
          "text": [
            "Cloning into 'Change-detection-in-multitemporal-satellite-images'...\n",
            "remote: Enumerating objects: 68, done.\u001b[K\n",
            "remote: Total 68 (delta 0), reused 0 (delta 0), pack-reused 68\u001b[K\n",
            "Unpacking objects: 100% (68/68), 15.79 MiB | 15.51 MiB/s, done.\n"
          ]
        }
      ]
    },
    {
      "cell_type": "code",
      "source": [
        "!python /content/Change-detection-in-multitemporal-satellite-images/scripts/DetectChange.py -io /content/FCCDN_pytorch/test_in_path/A/1001.png -it /content/FCCDN_pytorch/test_in_path/B/1001.png -o /content/"
      ],
      "metadata": {
        "colab": {
          "base_uri": "https://localhost:8080/"
        },
        "id": "x78IrhvKQWcs",
        "outputId": "fd1e7995-aea8-48e8-c711-8f97b75be259"
      },
      "execution_count": null,
      "outputs": [
        {
          "output_type": "stream",
          "name": "stdout",
          "text": [
            "[INFO] Start Change Detection ...\n",
            "[INFO] Importing Librairies ...\n",
            "[INFO] Reading Images ...\n",
            "[INFO] Reading Images took 0.01506662368774414 seconds\n",
            "[INFO] Resizing Images ...\n",
            "[INFO] Resizing Images took 0.011752128601074219 seconds\n",
            "[INFO] Computing Difference Image ...\n",
            "[INFO] Computing Difference Image took 0.024976491928100586 seconds\n",
            "[INFO] Performing PCA ...\n",
            "[INFO] Performing PCA took 0.06885337829589844 seconds\n",
            "[INFO] Building Feature Vector Space ...\n",
            "[INFO] Feature vector space size (404496, 25)\n",
            "[INFO] Building Feature Vector Space took 1.0927846431732178 seconds\n",
            "[INFO] Clustering ...\n",
            "/usr/local/lib/python3.10/dist-packages/sklearn/cluster/_kmeans.py:870: FutureWarning: The default value of `n_init` will change from 10 to 'auto' in 1.4. Set the value of `n_init` explicitly to suppress the warning\n",
            "  warnings.warn(\n",
            "[INFO] Clustering took 6.9186437129974365 seconds\n",
            "[INFO] Save Change Map ...\n",
            "[INFO] Performing Closing ...\n",
            "[WARNING] Kernel is fixed depending on image topology\n",
            "[WARNING] Closing with disk-shaped structuring element with radius equal to 6\n",
            "[INFO] Performing Opening ...\n",
            "[INFO] End Change Detection\n"
          ]
        }
      ]
    },
    {
      "cell_type": "markdown",
      "source": [
        "#3rd Algorithm\n",
        "\n",
        "---\n",
        "\n"
      ],
      "metadata": {
        "id": "LU0A2ged2Onb"
      }
    },
    {
      "cell_type": "code",
      "source": [
        "!git clone https://github.com/Chuan-shanjia/A-loss-function-for-change-detection.git"
      ],
      "metadata": {
        "colab": {
          "base_uri": "https://localhost:8080/"
        },
        "id": "J52st-JN2Qlu",
        "outputId": "f32e9e72-0831-4fc2-cb51-d7df22ecf74b"
      },
      "execution_count": null,
      "outputs": [
        {
          "output_type": "stream",
          "name": "stdout",
          "text": [
            "Cloning into 'A-loss-function-for-change-detection'...\n",
            "remote: Enumerating objects: 402, done.\u001b[K\n",
            "remote: Counting objects: 100% (88/88), done.\u001b[K\n",
            "remote: Compressing objects: 100% (43/43), done.\u001b[K\n",
            "remote: Total 402 (delta 76), reused 44 (delta 44), pack-reused 314\u001b[K\n",
            "Receiving objects: 100% (402/402), 8.20 MiB | 32.68 MiB/s, done.\n",
            "Resolving deltas: 100% (220/220), done.\n"
          ]
        }
      ]
    },
    {
      "cell_type": "code",
      "source": [
        "%cd A-loss-function-for-change-detection"
      ],
      "metadata": {
        "colab": {
          "base_uri": "https://localhost:8080/"
        },
        "id": "hyDk7BnQB9RD",
        "outputId": "e7dd25aa-58c9-4e75-b7cc-733f81885e66"
      },
      "execution_count": null,
      "outputs": [
        {
          "output_type": "stream",
          "name": "stdout",
          "text": [
            "/content/A-loss-function-for-change-detection\n"
          ]
        }
      ]
    },
    {
      "cell_type": "code",
      "source": [
        "url = 'https://drive.google.com/u/0/uc?id=1-vd9x7PMTgGTVQpAaNWF5tGy-NeLLdzB&export=download'\n",
        "dest = \"/content/A-loss-function-for-change-detection/data/pretrained_models\"\n",
        "gdown.download(url, dest, quiet=True)"
      ],
      "metadata": {
        "id": "bDwnUstS2TQJ",
        "colab": {
          "base_uri": "https://localhost:8080/",
          "height": 36
        },
        "outputId": "1e9f9f51-bede-4f1c-c142-c1f4324c5e71"
      },
      "execution_count": null,
      "outputs": [
        {
          "output_type": "execute_result",
          "data": {
            "text/plain": [
              "'/content/A-loss-function-for-change-detection/data/pretrained_models'"
            ],
            "application/vnd.google.colaboratory.intrinsic+json": {
              "type": "string"
            }
          },
          "metadata": {},
          "execution_count": 8
        }
      ]
    },
    {
      "cell_type": "code",
      "source": [
        "!mkdir -p data/pretrained_models\n",
        "!mkdir -p outdir/masks/test/im1 ; mkdir -p outdir/masks/test/im2 ;"
      ],
      "metadata": {
        "id": "DkjonDJ8IMe9"
      },
      "execution_count": null,
      "outputs": []
    },
    {
      "cell_type": "code",
      "source": [
        "!python test.py --data_root "
      ],
      "metadata": {
        "colab": {
          "base_uri": "https://localhost:8080/"
        },
        "id": "opUIDBULIayJ",
        "outputId": "4ab8b181-5809-4343-dfd8-faa2d020c718"
      },
      "execution_count": null,
      "outputs": [
        {
          "output_type": "stream",
          "name": "stdout",
          "text": [
            "usage: SenseEarth -- Change Detection\n",
            "       [-h]\n",
            "       [--data-root DATA_ROOT]\n",
            "       [--batch-size BATCH_SIZE]\n",
            "       [--val-batch-size VAL_BATCH_SIZE]\n",
            "       [--test-batch-size TEST_BATCH_SIZE]\n",
            "       [--epochs EPOCHS]\n",
            "       [--lr LR]\n",
            "       [--weight-decay WEIGHT_DECAY]\n",
            "       [--backbone BACKBONE]\n",
            "       [--model MODEL]\n",
            "       [--lightweight]\n",
            "       [--pretrain-from PRETRAIN_FROM]\n",
            "       [--load-from LOAD_FROM]\n",
            "       [--pretrained]\n",
            "       [--tta]\n",
            "       [--save-mask]\n",
            "       [--use-pseudo-label]\n",
            "SenseEarth -- Change Detection: error: unrecognized arguments: --data_root\n"
          ]
        }
      ]
    },
    {
      "cell_type": "markdown",
      "source": [
        "#4th Algorithm"
      ],
      "metadata": {
        "id": "M8kPlEpdcfdb"
      }
    },
    {
      "cell_type": "code",
      "source": [
        "%cd .."
      ],
      "metadata": {
        "colab": {
          "base_uri": "https://localhost:8080/"
        },
        "id": "h6Lg46NpeWNZ",
        "outputId": "12e7b88c-fbcf-4a55-9189-83dafdba69bc"
      },
      "execution_count": null,
      "outputs": [
        {
          "output_type": "stream",
          "name": "stdout",
          "text": [
            "/content\n"
          ]
        }
      ]
    },
    {
      "cell_type": "code",
      "source": [
        "!git clone https://github.com/voodooed/Unsupervised-Change-Detection.git"
      ],
      "metadata": {
        "colab": {
          "base_uri": "https://localhost:8080/"
        },
        "id": "u0yvXSuQIdxP",
        "outputId": "69c23a4f-81f4-4b19-c9b8-aa8d124a3008"
      },
      "execution_count": null,
      "outputs": [
        {
          "output_type": "stream",
          "name": "stdout",
          "text": [
            "Cloning into 'Unsupervised-Change-Detection'...\n",
            "remote: Enumerating objects: 17, done.\u001b[K\n",
            "remote: Counting objects: 100% (17/17), done.\u001b[K\n",
            "remote: Compressing objects: 100% (17/17), done.\u001b[K\n",
            "remote: Total 17 (delta 3), reused 0 (delta 0), pack-reused 0\u001b[K\n",
            "Unpacking objects: 100% (17/17), 3.17 MiB | 10.43 MiB/s, done.\n"
          ]
        }
      ]
    },
    {
      "cell_type": "code",
      "source": [
        "!python /content/Unsupervised-Change-Detection/change_detection.py"
      ],
      "metadata": {
        "colab": {
          "base_uri": "https://localhost:8080/"
        },
        "id": "FxS299Q-ei79",
        "outputId": "5334b67d-d59d-4112-fb51-b195e93a9af2"
      },
      "execution_count": null,
      "outputs": [
        {
          "output_type": "stream",
          "name": "stdout",
          "text": [
            "Operating\n",
            "/content/Unsupervised-Change-Detection/change_detection.py:74: DeprecationWarning: Starting with ImageIO v3 the behavior of this function will switch to that of iio.v3.imread. To keep the current behavior (and make this warning disappear) use `import imageio.v2 as imageio` or call `imageio.v2.imread` directly.\n",
            "  image1 = imread(imagepath1)\n",
            "/content/Unsupervised-Change-Detection/change_detection.py:75: DeprecationWarning: Starting with ImageIO v3 the behavior of this function will switch to that of iio.v3.imread. To keep the current behavior (and make this warning disappear) use `import imageio.v2 as imageio` or call `imageio.v2.imread` directly.\n",
            "  image2 = imread(imagepath2)\n",
            "(640, 640, 4) (640, 640, 3)\n",
            "/usr/local/lib/python3.10/dist-packages/skimage/transform/_warps.py:159: RuntimeWarning: divide by zero encountered in true_divide\n",
            "  factors = np.divide(input_shape, output_shape)\n",
            "Traceback (most recent call last):\n",
            "  File \"/content/Unsupervised-Change-Detection/change_detection.py\", line 116, in <module>\n",
            "    find_PCAKmeans(a,b)    \n",
            "  File \"/content/Unsupervised-Change-Detection/change_detection.py\", line 79, in find_PCAKmeans\n",
            "    image1 = resize(image1, (new_size)).astype(np.int16)\n",
            "  File \"/usr/local/lib/python3.10/dist-packages/skimage/transform/_warps.py\", line 181, in resize\n",
            "    image = ndi.gaussian_filter(image, anti_aliasing_sigma,\n",
            "  File \"/usr/local/lib/python3.10/dist-packages/scipy/ndimage/_filters.py\", line 368, in gaussian_filter\n",
            "    gaussian_filter1d(input, sigma, axis, order, output,\n",
            "  File \"/usr/local/lib/python3.10/dist-packages/scipy/ndimage/_filters.py\", line 269, in gaussian_filter1d\n",
            "    lw = int(truncate * sd + 0.5)\n",
            "OverflowError: cannot convert float infinity to integer\n"
          ]
        }
      ]
    },
    {
      "cell_type": "code",
      "source": [
        "from imageio.v2 import imread\n",
        "a = imread(\"/content/data/after/3001.png\")\n",
        "a.shape"
      ],
      "metadata": {
        "colab": {
          "base_uri": "https://localhost:8080/"
        },
        "id": "c1yspS9GjmwN",
        "outputId": "ed2dc8f5-c0ab-433e-8f66-d051a2d2c587"
      },
      "execution_count": null,
      "outputs": [
        {
          "output_type": "execute_result",
          "data": {
            "text/plain": [
              "(640, 640, 4)"
            ]
          },
          "metadata": {},
          "execution_count": 41
        }
      ]
    },
    {
      "cell_type": "markdown",
      "source": [
        "#5th Algorithm"
      ],
      "metadata": {
        "id": "-vm8e5lgmrXd"
      }
    },
    {
      "cell_type": "code",
      "source": [
        "!git clone https://github.com/wgcban/Metric-CD.git"
      ],
      "metadata": {
        "colab": {
          "base_uri": "https://localhost:8080/"
        },
        "id": "0A64ld9Wj_YB",
        "outputId": "dfd647ca-0aa6-472f-fa2b-c9efa41a5b18"
      },
      "execution_count": null,
      "outputs": [
        {
          "output_type": "stream",
          "name": "stdout",
          "text": [
            "Cloning into 'Metric-CD'...\n",
            "remote: Enumerating objects: 227, done.\u001b[K\n",
            "remote: Counting objects: 100% (43/43), done.\u001b[K\n",
            "remote: Compressing objects: 100% (41/41), done.\u001b[K\n",
            "remote: Total 227 (delta 9), reused 3 (delta 1), pack-reused 184\u001b[K\n",
            "Receiving objects: 100% (227/227), 61.63 MiB | 40.09 MiB/s, done.\n",
            "Resolving deltas: 100% (80/80), done.\n"
          ]
        }
      ]
    },
    {
      "cell_type": "code",
      "source": [
        "https://colab.research.google.com/drive/1RRjrBCDPB1jm2k7Jvh9gWkQbPdpP2Zg7#scrollTo=fEF2SN6woNl5"
      ],
      "metadata": {
        "id": "cuF6gUmnmwNv"
      },
      "execution_count": null,
      "outputs": []
    },
    {
      "cell_type": "markdown",
      "source": [
        "#6th Algorithm"
      ],
      "metadata": {
        "id": "xS-zBwcv2TAw"
      }
    },
    {
      "cell_type": "code",
      "source": [
        "os.chdir('/content')\n",
        "!pwd"
      ],
      "metadata": {
        "colab": {
          "base_uri": "https://localhost:8080/"
        },
        "id": "7WXJv6R-U5Rh",
        "outputId": "c5120b26-4013-4c36-cce3-f86d4668c36e"
      },
      "execution_count": 4,
      "outputs": [
        {
          "output_type": "stream",
          "name": "stdout",
          "text": [
            "/content\n"
          ]
        }
      ]
    },
    {
      "cell_type": "code",
      "source": [
        "!git clone https://github.com/ChenHongruixuan/SiamCRNN.git\n",
        "%cd SiamCRNN"
      ],
      "metadata": {
        "colab": {
          "base_uri": "https://localhost:8080/"
        },
        "id": "PxIfAOAo2VEj",
        "outputId": "4c68c448-20e0-4410-bd8e-307441475b7f"
      },
      "execution_count": 5,
      "outputs": [
        {
          "output_type": "stream",
          "name": "stdout",
          "text": [
            "Cloning into 'SiamCRNN'...\n",
            "remote: Enumerating objects: 44, done.\u001b[K\n",
            "remote: Counting objects: 100% (44/44), done.\u001b[K\n",
            "remote: Compressing objects: 100% (39/39), done.\u001b[K\n",
            "remote: Total 44 (delta 16), reused 22 (delta 5), pack-reused 0\u001b[K\n",
            "Unpacking objects: 100% (44/44), 297.29 KiB | 7.08 MiB/s, done.\n",
            "/content/SiamCRNN\n"
          ]
        }
      ]
    },
    {
      "cell_type": "code",
      "source": [
        "!pip install GDAL"
      ],
      "metadata": {
        "colab": {
          "base_uri": "https://localhost:8080/"
        },
        "id": "w39uRVNpVyxu",
        "outputId": "e00805d3-8096-4ea7-b4e5-f995ac771cc1"
      },
      "execution_count": 6,
      "outputs": [
        {
          "output_type": "stream",
          "name": "stdout",
          "text": [
            "Looking in indexes: https://pypi.org/simple, https://us-python.pkg.dev/colab-wheels/public/simple/\n",
            "Requirement already satisfied: GDAL in /usr/local/lib/python3.10/dist-packages (3.3.2)\n"
          ]
        }
      ]
    },
    {
      "cell_type": "code",
      "source": [
        "#from osgeo import gdal\n",
        "#from util.net_util import conv_2d, max_pool_2d, avg_pool_2d, fully_connected\n"
      ],
      "metadata": {
        "id": "XPMN567_czaJ"
      },
      "execution_count": 9,
      "outputs": []
    },
    {
      "cell_type": "code",
      "source": [
        "!python infer.py"
      ],
      "metadata": {
        "id": "E5C39TY32XfX",
        "colab": {
          "base_uri": "https://localhost:8080/"
        },
        "outputId": "b337eb12-528a-4114-873f-4145c20f03a4"
      },
      "execution_count": 14,
      "outputs": [
        {
          "output_type": "stream",
          "name": "stdout",
          "text": [
            "2023-06-12 08:21:10.799095: W tensorflow/compiler/tf2tensorrt/utils/py_utils.cc:38] TF-TRT Warning: Could not find TensorRT\n",
            "Traceback (most recent call last):\n",
            "  File \"/content/SiamCRNN/infer.py\", line 90, in <module>\n",
            "    infer_result()\n",
            "  File \"/content/SiamCRNN/infer.py\", line 34, in infer_result\n",
            "    img_X, img_Y = load_data()\n",
            "TypeError: load_data() missing 2 required positional arguments: 'path_X' and 'path_Y'\n"
          ]
        }
      ]
    },
    {
      "cell_type": "code",
      "source": [],
      "metadata": {
        "id": "18x0hj_uVnL2"
      },
      "execution_count": null,
      "outputs": []
    }
  ]
}